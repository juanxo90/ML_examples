{
  "nbformat": 4,
  "nbformat_minor": 0,
  "metadata": {
    "colab": {
      "name": "python_basics.ipynb",
      "provenance": [],
      "authorship_tag": "ABX9TyO0acYKXDKv1HETFW00GqLv",
      "include_colab_link": true
    },
    "kernelspec": {
      "name": "python3",
      "display_name": "Python 3"
    },
    "language_info": {
      "name": "python"
    }
  },
  "cells": [
    {
      "cell_type": "markdown",
      "metadata": {
        "id": "view-in-github",
        "colab_type": "text"
      },
      "source": [
        "<a href=\"https://colab.research.google.com/github/juanxo90/ML_examples/blob/main/01-python_basics.ipynb\" target=\"_parent\"><img src=\"https://colab.research.google.com/assets/colab-badge.svg\" alt=\"Open In Colab\"/></a>"
      ]
    },
    {
      "cell_type": "markdown",
      "source": [
        "# Basics of python\n",
        "\n",
        "This notebook is a very general introduction for python programing. Most of these concepts are very simple and does not have much explanation, nevertheless, if you are watching my notebooks and need some help to undestand some things used on the others notebooks this probably will help you."
      ],
      "metadata": {
        "id": "MRaEC3c-SSEv"
      }
    },
    {
      "cell_type": "markdown",
      "source": [
        "## if. elseif, else"
      ],
      "metadata": {
        "id": "mTAa2hB5StkU"
      }
    },
    {
      "cell_type": "code",
      "source": [
        "if 1 == 2:\n",
        "    print('uno')\n",
        "elif 2 == 3:\n",
        "    print('dos')\n",
        "else:\n",
        "    print('carcacha')"
      ],
      "metadata": {
        "id": "qOWTg0YzSsuA",
        "outputId": "f9d701d5-5e79-4284-ab5d-0c3501b2cc89",
        "colab": {
          "base_uri": "https://localhost:8080/"
        }
      },
      "execution_count": null,
      "outputs": [
        {
          "output_type": "stream",
          "name": "stdout",
          "text": [
            "carcacha\n"
          ]
        }
      ]
    },
    {
      "cell_type": "markdown",
      "source": [
        "## for loops"
      ],
      "metadata": {
        "id": "8gl_JwP8WdDT"
      }
    },
    {
      "cell_type": "code",
      "source": [
        "# define a list\n",
        "seq = [1,2,3,4,5]"
      ],
      "metadata": {
        "id": "e7VfZRX1WO3W"
      },
      "execution_count": null,
      "outputs": []
    },
    {
      "cell_type": "code",
      "source": [
        "# for loop to print the list\n",
        "for i in seq:\n",
        "    print(i)"
      ],
      "metadata": {
        "id": "Bo9VH7qEWibo",
        "outputId": "a71f703b-44f5-46ec-8862-1b875cd7c34c",
        "colab": {
          "base_uri": "https://localhost:8080/"
        }
      },
      "execution_count": null,
      "outputs": [
        {
          "output_type": "stream",
          "name": "stdout",
          "text": [
            "1\n",
            "2\n",
            "3\n",
            "4\n",
            "5\n"
          ]
        }
      ]
    },
    {
      "cell_type": "code",
      "source": [
        "# for loop to print the sum of every value in the list\n",
        "for i in seq:\n",
        "    print(i+i)"
      ],
      "metadata": {
        "id": "_rC7yNt3Wp2g",
        "outputId": "4b4aa907-4a03-4ecd-b68a-27635020f4cc",
        "colab": {
          "base_uri": "https://localhost:8080/"
        }
      },
      "execution_count": null,
      "outputs": [
        {
          "output_type": "stream",
          "name": "stdout",
          "text": [
            "2\n",
            "4\n",
            "6\n",
            "8\n",
            "10\n"
          ]
        }
      ]
    },
    {
      "cell_type": "markdown",
      "source": [
        "## while loops"
      ],
      "metadata": {
        "id": "5XIKQU4oW5WL"
      }
    },
    {
      "cell_type": "code",
      "source": [
        "i = 1\n",
        "while i < 5:\n",
        "    print('i is: {}'.format(i))\n",
        "    i = i+1"
      ],
      "metadata": {
        "id": "nA2-YeyRW66G",
        "outputId": "5e1fd4cb-ba81-4701-df77-ac2cceb854c3",
        "colab": {
          "base_uri": "https://localhost:8080/"
        }
      },
      "execution_count": null,
      "outputs": [
        {
          "output_type": "stream",
          "name": "stdout",
          "text": [
            "i is: 1\n",
            "i is: 2\n",
            "i is: 3\n",
            "i is: 4\n"
          ]
        }
      ]
    },
    {
      "cell_type": "markdown",
      "source": [
        "## list comprehension"
      ],
      "metadata": {
        "id": "1OAwl47NYTrO"
      }
    },
    {
      "cell_type": "code",
      "source": [
        "x = [1,2,3,4,5]"
      ],
      "metadata": {
        "id": "YTyi7IUNW7O3"
      },
      "execution_count": null,
      "outputs": []
    },
    {
      "cell_type": "code",
      "source": [
        "[item**2 for item in x]"
      ],
      "metadata": {
        "id": "n65w6-r6Ycye",
        "outputId": "1cbb9ccc-38d4-4fb4-f219-807365699de1",
        "colab": {
          "base_uri": "https://localhost:8080/"
        }
      },
      "execution_count": null,
      "outputs": [
        {
          "output_type": "execute_result",
          "data": {
            "text/plain": [
              "[1, 4, 9, 16, 25]"
            ]
          },
          "metadata": {},
          "execution_count": 7
        }
      ]
    },
    {
      "cell_type": "markdown",
      "source": [
        "## Function"
      ],
      "metadata": {
        "id": "DFVP0PI-VjW3"
      }
    },
    {
      "cell_type": "code",
      "execution_count": null,
      "metadata": {
        "id": "hkUMWz1iTjjA"
      },
      "outputs": [],
      "source": [
        "def count_string(s, st):\n",
        "    \"\"\"\n",
        "    A function that counts the number of a word or letter in a string\n",
        "    s = variable with the string\n",
        "    st = letter or word\n",
        "    \"\"\"\n",
        "    count = 0\n",
        "    for word in s.lower().split():\n",
        "        # Need to use in, can't use == or will get error with punctuation\n",
        "        if st in word:\n",
        "            count += 1\n",
        "            \n",
        "    # Note the indentation!\n",
        "    return count"
      ]
    },
    {
      "cell_type": "code",
      "source": [
        "s = 'Wow that is a nice price, very nice Price! I said price 3 times.'"
      ],
      "metadata": {
        "id": "TR0K2hyzWG4w"
      },
      "execution_count": null,
      "outputs": []
    },
    {
      "cell_type": "code",
      "execution_count": null,
      "metadata": {
        "id": "Ocm91Y4CRLcn",
        "outputId": "b9184f9d-e173-4bd1-f4d1-db2231bb06b6",
        "colab": {
          "base_uri": "https://localhost:8080/"
        }
      },
      "outputs": [
        {
          "output_type": "execute_result",
          "data": {
            "text/plain": [
              "3"
            ]
          },
          "metadata": {},
          "execution_count": 10
        }
      ],
      "source": [
        "count_string(s, \"price\")"
      ]
    },
    {
      "cell_type": "code",
      "source": [
        "count_string(s, \"i\")"
      ],
      "metadata": {
        "id": "SmjtuqLMWKvm",
        "outputId": "a3de58af-7355-45ce-b7cb-e445e6235318",
        "colab": {
          "base_uri": "https://localhost:8080/"
        }
      },
      "execution_count": null,
      "outputs": [
        {
          "output_type": "execute_result",
          "data": {
            "text/plain": [
              "9"
            ]
          },
          "metadata": {},
          "execution_count": 11
        }
      ]
    },
    {
      "cell_type": "markdown",
      "source": [
        "## map function"
      ],
      "metadata": {
        "id": "PxITg8KWZAlZ"
      }
    },
    {
      "cell_type": "code",
      "source": [
        "def mult_per_2(x):\n",
        "    return x *2 "
      ],
      "metadata": {
        "id": "kdbNA6YbY_uv"
      },
      "execution_count": null,
      "outputs": []
    },
    {
      "cell_type": "code",
      "source": [
        "x = [1,2,3,4,5]\n",
        "list(map(mult_per_2, x))"
      ],
      "metadata": {
        "id": "Pgtw50ECZXFG",
        "outputId": "779a895f-b975-4d20-c194-77a6113512e3",
        "colab": {
          "base_uri": "https://localhost:8080/"
        }
      },
      "execution_count": null,
      "outputs": [
        {
          "output_type": "execute_result",
          "data": {
            "text/plain": [
              "[2, 4, 6, 8, 10]"
            ]
          },
          "metadata": {},
          "execution_count": 14
        }
      ]
    },
    {
      "cell_type": "markdown",
      "source": [
        "## lambda function"
      ],
      "metadata": {
        "id": "vFrMJj_iZziU"
      }
    },
    {
      "cell_type": "code",
      "source": [
        "x = [1,2,3,4,5]\n",
        "list(map(lambda i: i * 2, x))"
      ],
      "metadata": {
        "id": "Ai5jhbytZkSt",
        "outputId": "01f3395c-058b-4c81-aa7a-d48a7a90e5fc",
        "colab": {
          "base_uri": "https://localhost:8080/"
        }
      },
      "execution_count": null,
      "outputs": [
        {
          "output_type": "execute_result",
          "data": {
            "text/plain": [
              "[2, 4, 6, 8, 10]"
            ]
          },
          "metadata": {},
          "execution_count": 16
        }
      ]
    },
    {
      "cell_type": "markdown",
      "source": [
        "## filters"
      ],
      "metadata": {
        "id": "rep6Cq9UaqZL"
      }
    },
    {
      "cell_type": "code",
      "source": [
        "def pair(x):\n",
        "    if (x % 2 == 0):\n",
        "        return x"
      ],
      "metadata": {
        "id": "Jh8KRj3_ajrH"
      },
      "execution_count": null,
      "outputs": []
    },
    {
      "cell_type": "code",
      "source": [
        "x = [1,2,3,4,5,6,7]"
      ],
      "metadata": {
        "id": "fvgy5G-Wa628"
      },
      "execution_count": null,
      "outputs": []
    },
    {
      "cell_type": "code",
      "source": [
        "list(filter(pair, x))"
      ],
      "metadata": {
        "id": "Ea_gnS2Ra7-F",
        "outputId": "3276537c-caff-44c4-9d9a-f18f21a35019",
        "colab": {
          "base_uri": "https://localhost:8080/"
        }
      },
      "execution_count": null,
      "outputs": [
        {
          "output_type": "execute_result",
          "data": {
            "text/plain": [
              "[2, 4, 6]"
            ]
          },
          "metadata": {},
          "execution_count": 28
        }
      ]
    },
    {
      "cell_type": "code",
      "source": [
        ""
      ],
      "metadata": {
        "id": "Vv_9qrdabrBM"
      },
      "execution_count": null,
      "outputs": []
    },
    {
      "cell_type": "markdown",
      "source": [
        "## just random line code"
      ],
      "metadata": {
        "id": "lM6kvtgVdqzL"
      }
    },
    {
      "cell_type": "code",
      "source": [
        "frase = 'Hola este es un curso básico de python'\n",
        "\n",
        "# now we will count the word number in the string chain\n",
        "st = frase.split()\n",
        "\n",
        "nm = 0\n",
        "for i in st:\n",
        "    nm = nm + 1\n",
        "\n",
        "print(\"The number of words is\", nm)"
      ],
      "metadata": {
        "id": "qg7J3nbydxfZ",
        "outputId": "62e5cfe2-9969-4f2b-d394-0f30e19aadd7",
        "colab": {
          "base_uri": "https://localhost:8080/"
        }
      },
      "execution_count": null,
      "outputs": [
        {
          "output_type": "stream",
          "name": "stdout",
          "text": [
            "The number of words is 8\n"
          ]
        }
      ]
    },
    {
      "cell_type": "code",
      "source": [
        ""
      ],
      "metadata": {
        "id": "F02gy3bheD5o"
      },
      "execution_count": null,
      "outputs": []
    }
  ]
}