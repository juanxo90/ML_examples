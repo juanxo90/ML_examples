{
  "nbformat": 4,
  "nbformat_minor": 0,
  "metadata": {
    "colab": {
      "name": "03-python-tabular_data_exploration.ipynb",
      "provenance": [],
      "authorship_tag": "ABX9TyORbothdd/+dOQV2FtLFAeq",
      "include_colab_link": true
    },
    "kernelspec": {
      "name": "python3",
      "display_name": "Python 3"
    },
    "language_info": {
      "name": "python"
    }
  },
  "cells": [
    {
      "cell_type": "markdown",
      "metadata": {
        "id": "view-in-github",
        "colab_type": "text"
      },
      "source": [
        "<a href=\"https://colab.research.google.com/github/juanxo90/playing_with_python/blob/main/03_python_tabular_data_exploration.ipynb\" target=\"_parent\"><img src=\"https://colab.research.google.com/assets/colab-badge.svg\" alt=\"Open In Colab\"/></a>"
      ]
    },
    {
      "cell_type": "markdown",
      "source": [
        "# data exploration using python\n",
        "\n",
        "the data is available in: http://www.openml.org/d/1590"
      ],
      "metadata": {
        "id": "IWYTvReahyQo"
      }
    },
    {
      "cell_type": "code",
      "execution_count": null,
      "metadata": {
        "id": "l03zjyXJhjLJ"
      },
      "outputs": [],
      "source": [
        ""
      ]
    }
  ]
}